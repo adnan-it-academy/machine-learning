{
 "cells": [
  {
   "cell_type": "markdown",
   "metadata": {},
   "source": [
    "# Machine Learning Analysis & Hyperparameter Tuning\n",
    "Ovaj notebook uključuje kompletnu obradu oba dataseta: Wisconsin Breast Cancer i Heart Disease."
   ]
  },
  {
   "cell_type": "markdown",
   "metadata": {},
   "source": [
    "## 1. Wisconsin Breast Cancer Dataset - Učitavanje i osnovna analiza"
   ]
  },
  {
   "cell_type": "code",
   "execution_count": null,
   "metadata": {},
   "outputs": [],
   "source": [
    "\n",
    "import pandas as pd\n",
    "wisc_df = pd.read_csv(\"wisc_bc_data.csv\")\n",
    "wisc_df.head()\n"
   ]
  },
  {
   "cell_type": "code",
   "execution_count": null,
   "metadata": {},
   "outputs": [],
   "source": [
    "# Provjera nedostajućih vrijednosti\n",
    "wisc_df.isnull().sum().sum()"
   ]
  },
  {
   "cell_type": "code",
   "execution_count": null,
   "metadata": {},
   "outputs": [],
   "source": [
    "# Distribucija ciljne varijable\n",
    "wisc_df['diagnosis'].value_counts()"
   ]
  },
  {
   "cell_type": "markdown",
   "metadata": {},
   "source": [
    "## 2. Priprema podataka"
   ]
  },
  {
   "cell_type": "code",
   "execution_count": null,
   "metadata": {},
   "outputs": [],
   "source": [
    "from sklearn.preprocessing import StandardScaler, LabelEncoder\n",
    "from sklearn.model_selection import train_test_split, GridSearchCV\n",
    "from sklearn.impute import SimpleImputer\n",
    "from sklearn.pipeline import Pipeline\n",
    "from sklearn.metrics import classification_report, accuracy_score\n",
    "\n",
    "from sklearn.linear_model import LogisticRegression\n",
    "from sklearn.svm import SVC\n",
    "from sklearn.tree import DecisionTreeClassifier\n",
    "from sklearn.ensemble import RandomForestClassifier\n",
    "from sklearn.neighbors import KNeighborsClassifier"
   ]
  },
  {
   "cell_type": "code",
   "execution_count": null,
   "metadata": {},
   "outputs": [],
   "source": [
    "\n",
    "# Label Encoding ciljne varijable\n",
    "wisc_df['diagnosis'] = wisc_df['diagnosis'].map({'B':0, 'M':1})\n",
    "X_wisc = wisc_df.drop(['id', 'diagnosis'], axis=1)\n",
    "y_wisc = wisc_df['diagnosis']\n",
    "\n",
    "# Skaliranje\n",
    "scaler = StandardScaler()\n",
    "X_wisc_scaled = scaler.fit_transform(X_wisc)\n",
    "\n",
    "# Podjela na trening/test skup\n",
    "X_train_w, X_test_w, y_train_w, y_test_w = train_test_split(X_wisc_scaled, y_wisc, \n",
    "                                                            test_size=0.2, random_state=42)\n"
   ]
  },
  {
   "cell_type": "markdown",
   "metadata": {},
   "source": [
    "## 3. Modeliranje i Hyperparameter Tuning - Random Forest"
   ]
  },
  {
   "cell_type": "code",
   "execution_count": null,
   "metadata": {},
   "outputs": [],
   "source": [
    "\n",
    "param_grid_rf = {\n",
    "    'n_estimators': [50, 100, 200],\n",
    "    'max_depth': [None, 5, 10]\n",
    "}\n",
    "\n",
    "grid_rf = GridSearchCV(RandomForestClassifier(random_state=42), param_grid_rf, cv=5)\n",
    "grid_rf.fit(X_train_w, y_train_w)\n",
    "print(\"Najbolji parametri:\", grid_rf.best_params_)\n",
    "y_pred_rf = grid_rf.predict(X_test_w)\n",
    "print(classification_report(y_test_w, y_pred_rf))\n"
   ]
  },
  {
   "cell_type": "markdown",
   "metadata": {},
   "source": [
    "## 4. Modeliranje i Hyperparameter Tuning - SVM"
   ]
  },
  {
   "cell_type": "code",
   "execution_count": null,
   "metadata": {},
   "outputs": [],
   "source": [
    "\n",
    "param_grid_svm = {\n",
    "    'C': [0.1, 1, 10],\n",
    "    'kernel': ['linear', 'rbf']\n",
    "}\n",
    "\n",
    "grid_svm = GridSearchCV(SVC(), param_grid_svm, cv=5)\n",
    "grid_svm.fit(X_train_w, y_train_w)\n",
    "print(\"Najbolji parametri:\", grid_svm.best_params_)\n",
    "y_pred_svm = grid_svm.predict(X_test_w)\n",
    "print(classification_report(y_test_w, y_pred_svm))\n"
   ]
  },
  {
   "cell_type": "code",
   "execution_count": null,
   "metadata": {},
   "outputs": [],
   "source": [
    "from sklearn.model_selection import GridSearchCV, train_test_split\n",
    "from sklearn.preprocessing import StandardScaler\n",
    "from sklearn.pipeline import Pipeline\n",
    "from sklearn.svm import SVC\n",
    "from sklearn.ensemble import RandomForestClassifier\n",
    "\n",
    "# Prvo podaci\n",
    "X = wisc_df.drop(['id', 'diagnosis'], axis=1)\n",
    "y = wisc_df['diagnosis'].map({'B':0, 'M':1})\n",
    "\n",
    "X_train, X_test, y_train, y_test = train_test_split(X, y, test_size=0.2, random_state=42)\n",
    "\n",
    "# Pipeline\n",
    "pipe = Pipeline([\n",
    "('scaler', StandardScaler()),\n",
    "('classifier', SVC()) # samo placeholder\n",
    "])\n",
    "\n",
    "# Parametri za oba modela\n",
    "param_grid = [\n",
    "{\n",
    "'classifier': [SVC()],\n",
    "'classifier__C': [0.1, 1, 10],\n",
    "'classifier__kernel': ['linear', 'rbf']\n",
    "},\n",
    "{\n",
    "'classifier': [RandomForestClassifier(random_state=42)],\n",
    "'classifier__n_estimators': [50, 100],\n",
    "'classifier__max_depth': [None, 5, 10]\n",
    "}\n",
    "]\n",
    "\n",
    "# GridSearchCV\n",
    "grid = GridSearchCV(pipe, param_grid, cv=5)\n",
    "grid.fit(X_train, y_train)\n",
    "\n",
    "# Rezultati\n",
    "print(\"Najbolji model:\", grid.best_estimator_)\n",
    "print(\"Najbolji parametri:\", grid.best_params_)\n",
    "print(\"Najbolji score:\", grid.best_score_)"
   ]
  },
  {
   "cell_type": "markdown",
   "metadata": {},
   "source": [
    "## 5. Modeliranje i Hyperparameter Tuning - KNN"
   ]
  },
  {
   "cell_type": "code",
   "execution_count": null,
   "metadata": {},
   "outputs": [],
   "source": [
    "\n",
    "param_grid_knn = {\n",
    "    'n_neighbors': [3,5,7],\n",
    "    'weights': ['uniform', 'distance']\n",
    "}\n",
    "\n",
    "grid_knn = GridSearchCV(KNeighborsClassifier(), param_grid_knn, cv=5)\n",
    "grid_knn.fit(X_train_w, y_train_w)\n",
    "print(\"Najbolji parametri:\", grid_knn.best_params_)\n",
    "y_pred_knn = grid_knn.predict(X_test_w)\n",
    "print(classification_report(y_test_w, y_pred_knn))\n"
   ]
  },
  {
   "cell_type": "markdown",
   "metadata": {},
   "source": [
    "## 6. Heart Disease Dataset - Učitavanje i osnovna analiza"
   ]
  },
  {
   "cell_type": "code",
   "execution_count": null,
   "metadata": {},
   "outputs": [],
   "source": [
    "import pandas as pd\n",
    "\n",
    "heart_df = pd.read_csv(\"heart_disease_uci.csv\")\n",
    "heart_df.head()\n"
   ]
  },
  {
   "cell_type": "code",
   "execution_count": null,
   "metadata": {},
   "outputs": [],
   "source": [
    "# Nedostajuće vrijednosti\n",
    "heart_df.isnull().sum()"
   ]
  },
  {
   "cell_type": "markdown",
   "metadata": {},
   "source": [
    "## 7. Čišćenje i priprema podataka"
   ]
  },
  {
   "cell_type": "code",
   "execution_count": null,
   "metadata": {},
   "outputs": [],
   "source": [
    "\n",
    "# Drop kolone sa mnogo praznih vrijednosti\n",
    "heart_df = heart_df.drop(['ca', 'thal', 'slope'], axis=1)\n",
    "from sklearn.impute import SimpleImputer\n",
    "# Imputacija numeričkih vrijednosti\n",
    "imputer = SimpleImputer(strategy='median')\n",
    "num_cols = heart_df.select_dtypes(include=['float64']).columns\n",
    "heart_df[num_cols] = imputer.fit_transform(heart_df[num_cols])\n",
    "\n",
    "# Label Encoding kategorijskih varijabli\n",
    "cat_cols = ['sex', 'cp', 'fbs', 'restecg', 'exang']\n",
    "for col in cat_cols:\n",
    "    heart_df[col] = LabelEncoder().fit_transform(heart_df[col])\n",
    "\n",
    "X_heart = heart_df.drop(['id', 'num'], axis=1)\n",
    "y_heart = heart_df['num'].apply(lambda x: 1 if x > 0 else 0)  # Binarizacija\n",
    "\n",
    "# Skaliranje\n",
    "scaler = StandardScaler()\n",
    "X_heart_scaled = scaler.fit_transform(X_heart)\n",
    "\n",
    "# Podjela na trening/test skup\n",
    "X_train_h, X_test_h, y_train_h, y_test_h = train_test_split(X_heart_scaled, y_heart, test_size=0.2, random_state=42)\n"
   ]
  },
  {
   "cell_type": "markdown",
   "metadata": {},
   "source": [
    "## 8. Random Forest - Heart Disease"
   ]
  },
  {
   "cell_type": "code",
   "execution_count": null,
   "metadata": {},
   "outputs": [],
   "source": [
    "\n",
    "param_grid_rf_h = {\n",
    "    'n_estimators': [50, 100, 200],\n",
    "    'max_depth': [None, 5, 10]\n",
    "}\n",
    "\n",
    "grid_rf_h = GridSearchCV(RandomForestClassifier(random_state=42), param_grid_rf_h, cv=5)\n",
    "grid_rf_h.fit(X_train_h, y_train_h)\n",
    "print(\"Najbolji parametri:\", grid_rf_h.best_params_)\n",
    "y_pred_rf_h = grid_rf_h.predict(X_test_h)\n",
    "print(classification_report(y_test_h, y_pred_rf_h))\n"
   ]
  },
  {
   "cell_type": "markdown",
   "metadata": {},
   "source": [
    "## 9. Logistic Regression - Heart Disease"
   ]
  },
  {
   "cell_type": "code",
   "execution_count": null,
   "metadata": {},
   "outputs": [],
   "source": [
    "\n",
    "param_grid_lr = {\n",
    "    'C': [0.1, 1, 10],\n",
    "    'penalty': ['l2']\n",
    "}\n",
    "\n",
    "grid_lr = GridSearchCV(LogisticRegression(max_iter=500), param_grid_lr, cv=5)\n",
    "grid_lr.fit(X_train_h, y_train_h)\n",
    "print(\"Najbolji parametri:\", grid_lr.best_params_)\n",
    "y_pred_lr = grid_lr.predict(X_test_h)\n",
    "print(classification_report(y_test_h, y_pred_lr))\n"
   ]
  }
 ],
 "metadata": {
  "kernelspec": {
   "display_name": "Python 3",
   "language": "python",
   "name": "python3"
  },
  "language_info": {
   "codemirror_mode": {
    "name": "ipython",
    "version": 3
   },
   "file_extension": ".py",
   "mimetype": "text/x-python",
   "name": "python",
   "nbconvert_exporter": "python",
   "pygments_lexer": "ipython3",
   "version": "3.13.0"
  }
 },
 "nbformat": 4,
 "nbformat_minor": 2
}
